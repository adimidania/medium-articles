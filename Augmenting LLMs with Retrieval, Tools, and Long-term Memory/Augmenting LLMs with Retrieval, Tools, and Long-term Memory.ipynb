{
  "nbformat": 4,
  "nbformat_minor": 0,
  "metadata": {
    "colab": {
      "provenance": []
    },
    "kernelspec": {
      "name": "python3",
      "display_name": "Python 3"
    },
    "language_info": {
      "name": "python"
    }
  },
  "cells": [
    {
      "cell_type": "markdown",
      "source": [
        "# Augmenting LLMs with Retrieval, Tools, and Long-term Memory"
      ],
      "metadata": {
        "id": "CmB11JDYjU5t"
      }
    },
    {
      "cell_type": "code",
      "source": [
        "!pip install google-generativeai faiss-cpu"
      ],
      "metadata": {
        "colab": {
          "base_uri": "https://localhost:8080/"
        },
        "id": "Pd-QQXoyjcXn",
        "outputId": "23568c93-5ab1-4847-c0e9-62a9edf942a6"
      },
      "execution_count": 1,
      "outputs": [
        {
          "output_type": "stream",
          "name": "stdout",
          "text": [
            "Requirement already satisfied: google-generativeai in /usr/local/lib/python3.11/dist-packages (0.8.4)\n",
            "Requirement already satisfied: faiss-cpu in /usr/local/lib/python3.11/dist-packages (1.10.0)\n",
            "Requirement already satisfied: google-ai-generativelanguage==0.6.15 in /usr/local/lib/python3.11/dist-packages (from google-generativeai) (0.6.15)\n",
            "Requirement already satisfied: google-api-core in /usr/local/lib/python3.11/dist-packages (from google-generativeai) (2.24.1)\n",
            "Requirement already satisfied: google-api-python-client in /usr/local/lib/python3.11/dist-packages (from google-generativeai) (2.160.0)\n",
            "Requirement already satisfied: google-auth>=2.15.0 in /usr/local/lib/python3.11/dist-packages (from google-generativeai) (2.38.0)\n",
            "Requirement already satisfied: protobuf in /usr/local/lib/python3.11/dist-packages (from google-generativeai) (4.25.6)\n",
            "Requirement already satisfied: pydantic in /usr/local/lib/python3.11/dist-packages (from google-generativeai) (2.10.6)\n",
            "Requirement already satisfied: tqdm in /usr/local/lib/python3.11/dist-packages (from google-generativeai) (4.67.1)\n",
            "Requirement already satisfied: typing-extensions in /usr/local/lib/python3.11/dist-packages (from google-generativeai) (4.12.2)\n",
            "Requirement already satisfied: proto-plus<2.0.0dev,>=1.22.3 in /usr/local/lib/python3.11/dist-packages (from google-ai-generativelanguage==0.6.15->google-generativeai) (1.26.0)\n",
            "Requirement already satisfied: numpy<3.0,>=1.25.0 in /usr/local/lib/python3.11/dist-packages (from faiss-cpu) (1.26.4)\n",
            "Requirement already satisfied: packaging in /usr/local/lib/python3.11/dist-packages (from faiss-cpu) (24.2)\n",
            "Requirement already satisfied: googleapis-common-protos<2.0.dev0,>=1.56.2 in /usr/local/lib/python3.11/dist-packages (from google-api-core->google-generativeai) (1.69.1)\n",
            "Requirement already satisfied: requests<3.0.0.dev0,>=2.18.0 in /usr/local/lib/python3.11/dist-packages (from google-api-core->google-generativeai) (2.32.3)\n",
            "Requirement already satisfied: cachetools<6.0,>=2.0.0 in /usr/local/lib/python3.11/dist-packages (from google-auth>=2.15.0->google-generativeai) (5.5.2)\n",
            "Requirement already satisfied: pyasn1-modules>=0.2.1 in /usr/local/lib/python3.11/dist-packages (from google-auth>=2.15.0->google-generativeai) (0.4.1)\n",
            "Requirement already satisfied: rsa<5,>=3.1.4 in /usr/local/lib/python3.11/dist-packages (from google-auth>=2.15.0->google-generativeai) (4.9)\n",
            "Requirement already satisfied: httplib2<1.dev0,>=0.19.0 in /usr/local/lib/python3.11/dist-packages (from google-api-python-client->google-generativeai) (0.22.0)\n",
            "Requirement already satisfied: google-auth-httplib2<1.0.0,>=0.2.0 in /usr/local/lib/python3.11/dist-packages (from google-api-python-client->google-generativeai) (0.2.0)\n",
            "Requirement already satisfied: uritemplate<5,>=3.0.1 in /usr/local/lib/python3.11/dist-packages (from google-api-python-client->google-generativeai) (4.1.1)\n",
            "Requirement already satisfied: annotated-types>=0.6.0 in /usr/local/lib/python3.11/dist-packages (from pydantic->google-generativeai) (0.7.0)\n",
            "Requirement already satisfied: pydantic-core==2.27.2 in /usr/local/lib/python3.11/dist-packages (from pydantic->google-generativeai) (2.27.2)\n",
            "Requirement already satisfied: grpcio<2.0dev,>=1.33.2 in /usr/local/lib/python3.11/dist-packages (from google-api-core[grpc]!=2.0.*,!=2.1.*,!=2.10.*,!=2.2.*,!=2.3.*,!=2.4.*,!=2.5.*,!=2.6.*,!=2.7.*,!=2.8.*,!=2.9.*,<3.0.0dev,>=1.34.1->google-ai-generativelanguage==0.6.15->google-generativeai) (1.70.0)\n",
            "Requirement already satisfied: grpcio-status<2.0.dev0,>=1.33.2 in /usr/local/lib/python3.11/dist-packages (from google-api-core[grpc]!=2.0.*,!=2.1.*,!=2.10.*,!=2.2.*,!=2.3.*,!=2.4.*,!=2.5.*,!=2.6.*,!=2.7.*,!=2.8.*,!=2.9.*,<3.0.0dev,>=1.34.1->google-ai-generativelanguage==0.6.15->google-generativeai) (1.62.3)\n",
            "Requirement already satisfied: pyparsing!=3.0.0,!=3.0.1,!=3.0.2,!=3.0.3,<4,>=2.4.2 in /usr/local/lib/python3.11/dist-packages (from httplib2<1.dev0,>=0.19.0->google-api-python-client->google-generativeai) (3.2.1)\n",
            "Requirement already satisfied: pyasn1<0.7.0,>=0.4.6 in /usr/local/lib/python3.11/dist-packages (from pyasn1-modules>=0.2.1->google-auth>=2.15.0->google-generativeai) (0.6.1)\n",
            "Requirement already satisfied: charset-normalizer<4,>=2 in /usr/local/lib/python3.11/dist-packages (from requests<3.0.0.dev0,>=2.18.0->google-api-core->google-generativeai) (3.4.1)\n",
            "Requirement already satisfied: idna<4,>=2.5 in /usr/local/lib/python3.11/dist-packages (from requests<3.0.0.dev0,>=2.18.0->google-api-core->google-generativeai) (3.10)\n",
            "Requirement already satisfied: urllib3<3,>=1.21.1 in /usr/local/lib/python3.11/dist-packages (from requests<3.0.0.dev0,>=2.18.0->google-api-core->google-generativeai) (2.3.0)\n",
            "Requirement already satisfied: certifi>=2017.4.17 in /usr/local/lib/python3.11/dist-packages (from requests<3.0.0.dev0,>=2.18.0->google-api-core->google-generativeai) (2025.1.31)\n"
          ]
        }
      ]
    },
    {
      "cell_type": "code",
      "source": [
        "from google.colab import userdata\n",
        "import os\n",
        "\n",
        "google_api_key = userdata.get('GOOGLE_API_KEY')"
      ],
      "metadata": {
        "id": "IjBKmSHMk4OF"
      },
      "execution_count": 2,
      "outputs": []
    },
    {
      "cell_type": "code",
      "source": [
        "import google.generativeai as genai\n",
        "\n",
        "genai.configure(api_key=google_api_key)"
      ],
      "metadata": {
        "id": "c87cZgMSk6QG"
      },
      "execution_count": 20,
      "outputs": []
    },
    {
      "cell_type": "markdown",
      "source": [
        "## Retrieval Augmented Generation"
      ],
      "metadata": {
        "id": "5-vYs9KrjZVR"
      }
    },
    {
      "cell_type": "code",
      "source": [
        "with open('knowledge_base.txt', 'r', encoding='utf-8') as file:\n",
        "    file_content = file.read()"
      ],
      "metadata": {
        "id": "UwCGOEZ-jY4z"
      },
      "execution_count": 4,
      "outputs": []
    },
    {
      "cell_type": "code",
      "source": [
        "documents = [para.strip() for para in file_content.split('\\n\\n') if para.strip()]"
      ],
      "metadata": {
        "id": "UUgyYgQ4lcwg"
      },
      "execution_count": 7,
      "outputs": []
    },
    {
      "cell_type": "code",
      "source": [
        "print(f'The knowledge base contains {len(documents)} document.')\n",
        "print(f'Example: {documents[0]}')"
      ],
      "metadata": {
        "colab": {
          "base_uri": "https://localhost:8080/"
        },
        "id": "cbhLLyMsjXz-",
        "outputId": "48864f98-ff1d-4821-cbd2-fdfbfefff120"
      },
      "execution_count": 8,
      "outputs": [
        {
          "output_type": "stream",
          "name": "stdout",
          "text": [
            "The knowledge base contains 10 document.\n",
            "Example: In a groundbreaking discovery in education, researchers at the fictitious Aurora Institute have unveiled a method that transforms traditional classrooms into interactive learning hubs using augmented reality. This discovery promises to reshape how knowledge is delivered.\n"
          ]
        }
      ]
    },
    {
      "cell_type": "code",
      "source": [
        "embeddings = []\n",
        "for doc in documents:\n",
        "    response = genai.embed_content(\n",
        "        model=\"models/text-embedding-004\",\n",
        "        content=doc,\n",
        "        task_type=\"retrieval_document\"\n",
        "    )\n",
        "    embeddings.append(response['embedding'])"
      ],
      "metadata": {
        "id": "LsSSAdF3lL4K"
      },
      "execution_count": 11,
      "outputs": []
    },
    {
      "cell_type": "code",
      "source": [
        "import faiss\n",
        "\n",
        "dimension = len(embeddings[0])\n",
        "index = faiss.IndexFlatL2(dimension)"
      ],
      "metadata": {
        "id": "LyLHuKZ5lxU4"
      },
      "execution_count": 12,
      "outputs": []
    },
    {
      "cell_type": "code",
      "source": [
        "import numpy as np\n",
        "\n",
        "embeddings_array = np.array(embeddings).astype('float32')\n",
        "index.add(embeddings_array)"
      ],
      "metadata": {
        "id": "-ssxYcGRl70e"
      },
      "execution_count": 13,
      "outputs": []
    },
    {
      "cell_type": "code",
      "source": [
        "def query_faiss_index(user_query, top_k=1):\n",
        "    response = genai.embed_content(\n",
        "        model=\"models/text-embedding-004\",\n",
        "        content=user_query,\n",
        "        task_type=\"retrieval_document\"\n",
        "    )\n",
        "    query_embedding = np.array(response['embedding']).astype('float32').reshape(1, -1)\n",
        "    distances, indices = index.search(query_embedding, top_k)\n",
        "    relevant_document = [documents[idx].strip() for idx in indices[0] if idx != -1]\n",
        "\n",
        "    return relevant_document[0]"
      ],
      "metadata": {
        "id": "zfy7r-1_mDE2"
      },
      "execution_count": 20,
      "outputs": []
    },
    {
      "cell_type": "code",
      "source": [
        "def retrieval_augmented_generation(user_query):\n",
        "    relevant_document = query_faiss_index(user_query)\n",
        "    system_prompt = f\"\"\"\n",
        "    You are a knowledgeable assistant specializing in education who gives well-grounded and informative responses to users' queries. If the user's query is not relevant to the context, say 'I don't have much information about that' but give them directions, please don't mention 'based on the context', answer directly.\n",
        "    \"\"\"\n",
        "    prompt = f\"\"\"\n",
        "                  Answer the following user's query:\n",
        "                  {user_query}\n",
        "\n",
        "                  By relying on the following context:\n",
        "                  {relevant_document}\n",
        "              \"\"\"\n",
        "    model = genai.GenerativeModel(model_name=\"gemini-1.5-flash\", system_instruction=system_prompt)\n",
        "    response = model.generate_content(prompt)\n",
        "    return response.text\n",
        ""
      ],
      "metadata": {
        "id": "Y209lSCQnZPn"
      },
      "execution_count": 29,
      "outputs": []
    },
    {
      "cell_type": "code",
      "source": [
        "print(retrieval_augmented_generation(\"What does EdTech startup Lumina Learning suggest?\"))"
      ],
      "metadata": {
        "colab": {
          "base_uri": "https://localhost:8080/",
          "height": 72
        },
        "id": "Dfc3JIMXowq3",
        "outputId": "9916b17f-8819-42d5-8a4d-3d13cef27402"
      },
      "execution_count": 30,
      "outputs": [
        {
          "output_type": "stream",
          "name": "stdout",
          "text": [
            "Lumina Learning suggests a gamified curriculum that turns regular lessons into engaging quests.  This approach aims to boost student motivation (by 70%, according to their claims), and also develop teamwork and problem-solving abilities.\n",
            "\n"
          ]
        }
      ]
    },
    {
      "cell_type": "code",
      "source": [
        "print(retrieval_augmented_generation(\"What do you know about InfinitGraph?\"))"
      ],
      "metadata": {
        "colab": {
          "base_uri": "https://localhost:8080/",
          "height": 72
        },
        "id": "YHAtkMkKo4OX",
        "outputId": "47db15f6-63bb-4b33-87b8-373277b29bf6"
      },
      "execution_count": 32,
      "outputs": [
        {
          "output_type": "stream",
          "name": "stdout",
          "text": [
            "I don't have much information about InfinitGraph.  To find information about InfinitGraph, I suggest you try searching online using a search engine like Google, Bing, or DuckDuckGo.  You can also try searching on specialized technology websites or forums.\n",
            "\n"
          ]
        }
      ]
    },
    {
      "cell_type": "markdown",
      "source": [
        "## Tools"
      ],
      "metadata": {
        "id": "ic6FcnvSp9ek"
      }
    },
    {
      "cell_type": "code",
      "source": [
        "def get_book_catalog(category: str):\n",
        "    \"\"\"\n",
        "    List all books in the specified category along with their links.\n",
        "\n",
        "    Args:\n",
        "        category (str): The book category. Acceptable values are \"Islamic Books\" or \"Self-Development Books\".\n",
        "\n",
        "    Returns:\n",
        "        list[dict]: A list of dictionaries, each containing the title and link of a book.\n",
        "    \"\"\"\n",
        "    if \"islam\" in category.lower():\n",
        "        return [\n",
        "            {\"title\": \"Understanding Islam\", \"link\": \"https://www.islam.gov.qa/BinZaid/lang-ebook/pdf/Understanding-Islam-English.pdf\"},\n",
        "            {\"title\": \"The Prophet of Islam ﷺ Muhammad\", \"link\": \"https://drive.google.com/file/d/1lb4xqzmexSNuxjX_oRHvkHuJdLCum3vd/view?usp=sharing\"},\n",
        "            {\"title\": \"Muhammad ﷺ in the Bible\", \"link\": \"https://drive.google.com/file/d/1lUS5tRwHaFLueUyWKWCRR5wLpguTsVf_/view?usp=sharing\"}\n",
        "        ]\n",
        "    elif category.lower() == \"self-development books\":\n",
        "        return [\n",
        "            {\"title\": \"Atomic Habits\", \"link\": \"https://jamesclear.com/atomic-habits\"},\n",
        "        ]\n",
        "    else:\n",
        "        return [\"No books available yet.\"]\n",
        "\n",
        "functions = {\n",
        "    \"get_book_catalog\": get_book_catalog,\n",
        "}"
      ],
      "metadata": {
        "id": "by6JbGoho_JP"
      },
      "execution_count": 27,
      "outputs": []
    },
    {
      "cell_type": "code",
      "source": [
        "model = genai.GenerativeModel(\n",
        "    model_name=\"gemini-1.5-flash\", tools=functions.values()\n",
        ")\n",
        "\n",
        "chat = model.start_chat(enable_automatic_function_calling=True)"
      ],
      "metadata": {
        "id": "9S_bPDkDtYKN"
      },
      "execution_count": 28,
      "outputs": []
    },
    {
      "cell_type": "code",
      "source": [
        "response = chat.send_message(\n",
        "    \"Can you give me some books to learn more about islam? Please provide the links.\"\n",
        ")\n",
        "print(response.text)"
      ],
      "metadata": {
        "colab": {
          "base_uri": "https://localhost:8080/",
          "height": 176
        },
        "id": "zRTtDHjN3joS",
        "outputId": "ba8897de-a575-49c6-a0f0-c1abcf25b619"
      },
      "execution_count": 29,
      "outputs": [
        {
          "output_type": "stream",
          "name": "stdout",
          "text": [
            "Here are some books about Islam:\n",
            "\n",
            "*   **Understanding Islam**: [https://www.islam.gov.qa/BinZaid/lang-ebook/pdf/Understanding-Islam-English.pdf](https://www.islam.gov.qa/BinZaid/lang-ebook/pdf/Understanding-Islam-English.pdf)\n",
            "*   **The Prophet of Islam ﷺ Muhammad**: [https://drive.google.com/file/d/1lb4xqzmexSNuxjX_oRHvkHuJdLCum3vd/view?usp=sharing](https://drive.google.com/file/d/1lb4xqzmexSNuxjX_oRHvkHuJdLCum3vd/view?usp=sharing)\n",
            "*   **Muhammad ﷺ in the Bible**: [https://drive.google.com/file/d/1lUS5tRwHaFLueUyWKWCRR5wLpguTsVf_/view?usp=sharing](https://drive.google.com/file/d/1lUS5tRwHaFLueUyWKWCRR5wLpguTsVf_/view?usp=sharing)\n",
            "\n",
            "Please note that the availability of these links might change over time.\n",
            "\n"
          ]
        }
      ]
    }
  ]
}