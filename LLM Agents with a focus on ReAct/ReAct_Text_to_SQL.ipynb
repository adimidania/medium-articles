{
  "nbformat": 4,
  "nbformat_minor": 0,
  "metadata": {
    "colab": {
      "provenance": []
    },
    "kernelspec": {
      "name": "python3",
      "display_name": "Python 3"
    },
    "language_info": {
      "name": "python"
    }
  },
  "cells": [
    {
      "cell_type": "markdown",
      "source": [
        "# ReAct Agent Text-to-SQL\n",
        "\n"
      ],
      "metadata": {
        "id": "CmB11JDYjU5t"
      }
    },
    {
      "cell_type": "code",
      "source": [
        "!pip install google-generativeai"
      ],
      "metadata": {
        "colab": {
          "base_uri": "https://localhost:8080/"
        },
        "id": "Pd-QQXoyjcXn",
        "outputId": "07bb02a8-2100-40fc-8b59-a217c54aaa02"
      },
      "execution_count": 8,
      "outputs": [
        {
          "output_type": "stream",
          "name": "stdout",
          "text": [
            "Requirement already satisfied: google-generativeai in /usr/local/lib/python3.11/dist-packages (0.8.4)\n",
            "Requirement already satisfied: google-ai-generativelanguage==0.6.15 in /usr/local/lib/python3.11/dist-packages (from google-generativeai) (0.6.15)\n",
            "Requirement already satisfied: google-api-core in /usr/local/lib/python3.11/dist-packages (from google-generativeai) (2.24.2)\n",
            "Requirement already satisfied: google-api-python-client in /usr/local/lib/python3.11/dist-packages (from google-generativeai) (2.164.0)\n",
            "Requirement already satisfied: google-auth>=2.15.0 in /usr/local/lib/python3.11/dist-packages (from google-generativeai) (2.38.0)\n",
            "Requirement already satisfied: protobuf in /usr/local/lib/python3.11/dist-packages (from google-generativeai) (5.29.4)\n",
            "Requirement already satisfied: pydantic in /usr/local/lib/python3.11/dist-packages (from google-generativeai) (2.10.6)\n",
            "Requirement already satisfied: tqdm in /usr/local/lib/python3.11/dist-packages (from google-generativeai) (4.67.1)\n",
            "Requirement already satisfied: typing-extensions in /usr/local/lib/python3.11/dist-packages (from google-generativeai) (4.12.2)\n",
            "Requirement already satisfied: proto-plus<2.0.0dev,>=1.22.3 in /usr/local/lib/python3.11/dist-packages (from google-ai-generativelanguage==0.6.15->google-generativeai) (1.26.1)\n",
            "Requirement already satisfied: googleapis-common-protos<2.0.0,>=1.56.2 in /usr/local/lib/python3.11/dist-packages (from google-api-core->google-generativeai) (1.69.2)\n",
            "Requirement already satisfied: requests<3.0.0,>=2.18.0 in /usr/local/lib/python3.11/dist-packages (from google-api-core->google-generativeai) (2.32.3)\n",
            "Requirement already satisfied: cachetools<6.0,>=2.0.0 in /usr/local/lib/python3.11/dist-packages (from google-auth>=2.15.0->google-generativeai) (5.5.2)\n",
            "Requirement already satisfied: pyasn1-modules>=0.2.1 in /usr/local/lib/python3.11/dist-packages (from google-auth>=2.15.0->google-generativeai) (0.4.1)\n",
            "Requirement already satisfied: rsa<5,>=3.1.4 in /usr/local/lib/python3.11/dist-packages (from google-auth>=2.15.0->google-generativeai) (4.9)\n",
            "Requirement already satisfied: httplib2<1.dev0,>=0.19.0 in /usr/local/lib/python3.11/dist-packages (from google-api-python-client->google-generativeai) (0.22.0)\n",
            "Requirement already satisfied: google-auth-httplib2<1.0.0,>=0.2.0 in /usr/local/lib/python3.11/dist-packages (from google-api-python-client->google-generativeai) (0.2.0)\n",
            "Requirement already satisfied: uritemplate<5,>=3.0.1 in /usr/local/lib/python3.11/dist-packages (from google-api-python-client->google-generativeai) (4.1.1)\n",
            "Requirement already satisfied: annotated-types>=0.6.0 in /usr/local/lib/python3.11/dist-packages (from pydantic->google-generativeai) (0.7.0)\n",
            "Requirement already satisfied: pydantic-core==2.27.2 in /usr/local/lib/python3.11/dist-packages (from pydantic->google-generativeai) (2.27.2)\n",
            "Requirement already satisfied: grpcio<2.0dev,>=1.33.2 in /usr/local/lib/python3.11/dist-packages (from google-api-core[grpc]!=2.0.*,!=2.1.*,!=2.10.*,!=2.2.*,!=2.3.*,!=2.4.*,!=2.5.*,!=2.6.*,!=2.7.*,!=2.8.*,!=2.9.*,<3.0.0dev,>=1.34.1->google-ai-generativelanguage==0.6.15->google-generativeai) (1.71.0)\n",
            "Requirement already satisfied: grpcio-status<2.0.dev0,>=1.33.2 in /usr/local/lib/python3.11/dist-packages (from google-api-core[grpc]!=2.0.*,!=2.1.*,!=2.10.*,!=2.2.*,!=2.3.*,!=2.4.*,!=2.5.*,!=2.6.*,!=2.7.*,!=2.8.*,!=2.9.*,<3.0.0dev,>=1.34.1->google-ai-generativelanguage==0.6.15->google-generativeai) (1.71.0)\n",
            "Requirement already satisfied: pyparsing!=3.0.0,!=3.0.1,!=3.0.2,!=3.0.3,<4,>=2.4.2 in /usr/local/lib/python3.11/dist-packages (from httplib2<1.dev0,>=0.19.0->google-api-python-client->google-generativeai) (3.2.1)\n",
            "Requirement already satisfied: pyasn1<0.7.0,>=0.4.6 in /usr/local/lib/python3.11/dist-packages (from pyasn1-modules>=0.2.1->google-auth>=2.15.0->google-generativeai) (0.6.1)\n",
            "Requirement already satisfied: charset-normalizer<4,>=2 in /usr/local/lib/python3.11/dist-packages (from requests<3.0.0,>=2.18.0->google-api-core->google-generativeai) (3.4.1)\n",
            "Requirement already satisfied: idna<4,>=2.5 in /usr/local/lib/python3.11/dist-packages (from requests<3.0.0,>=2.18.0->google-api-core->google-generativeai) (3.10)\n",
            "Requirement already satisfied: urllib3<3,>=1.21.1 in /usr/local/lib/python3.11/dist-packages (from requests<3.0.0,>=2.18.0->google-api-core->google-generativeai) (2.3.0)\n",
            "Requirement already satisfied: certifi>=2017.4.17 in /usr/local/lib/python3.11/dist-packages (from requests<3.0.0,>=2.18.0->google-api-core->google-generativeai) (2025.1.31)\n"
          ]
        }
      ]
    },
    {
      "cell_type": "code",
      "source": [
        "from google.colab import userdata\n",
        "import os\n",
        "\n",
        "google_api_key = userdata.get('GOOGLE_API_KEY')"
      ],
      "metadata": {
        "id": "IjBKmSHMk4OF"
      },
      "execution_count": 9,
      "outputs": []
    },
    {
      "cell_type": "code",
      "source": [
        "import google.generativeai as genai\n",
        "\n",
        "genai.configure(api_key=google_api_key)"
      ],
      "metadata": {
        "id": "c87cZgMSk6QG"
      },
      "execution_count": 10,
      "outputs": []
    },
    {
      "cell_type": "markdown",
      "source": [
        "## Database Creation"
      ],
      "metadata": {
        "id": "-QBZngISDCz4"
      }
    },
    {
      "cell_type": "code",
      "source": [
        "import sqlite3\n",
        "\n",
        "def create_sample_database():\n",
        "    \"\"\"\n",
        "    Create a simple SQLite database with a 'companies' table and a 'customers' table.\n",
        "    Each company has an id, title, and description.\n",
        "    Each customer has an id, name, revenue, and a foreign key company_id referencing the companies table.\n",
        "    This function resets the database for a clean slate.\n",
        "    \"\"\"\n",
        "    conn = sqlite3.connect(\"sample.db\")\n",
        "    cur = conn.cursor()\n",
        "\n",
        "    # Enable foreign key support in SQLite.\n",
        "    cur.execute(\"PRAGMA foreign_keys = ON;\")\n",
        "\n",
        "    # Create the companies table.\n",
        "    cur.execute(\"\"\"\n",
        "        CREATE TABLE companies (\n",
        "            id INTEGER PRIMARY KEY,\n",
        "            title TEXT NOT NULL,\n",
        "            description TEXT\n",
        "        )\n",
        "    \"\"\")\n",
        "\n",
        "    # Create the customers table with a foreign key to companies.\n",
        "    cur.execute(\"\"\"\n",
        "        CREATE TABLE customers (\n",
        "            id INTEGER PRIMARY KEY,\n",
        "            name TEXT NOT NULL,\n",
        "            revenue REAL NOT NULL,\n",
        "            company_id INTEGER,\n",
        "            FOREIGN KEY (company_id) REFERENCES companies(id) ON DELETE SET NULL\n",
        "        )\n",
        "    \"\"\")\n",
        "\n",
        "    # Insert sample data into companies.\n",
        "    companies_data = [\n",
        "        (1, 'Acme Corp', 'Leading provider of innovative solutions'),\n",
        "        (2, 'Beta Inc', 'Specializes in data analytics and insights'),\n",
        "        (3, 'Gamma LLC', 'Pioneer in cloud computing services')\n",
        "    ]\n",
        "    cur.executemany(\"INSERT INTO companies (id, title, description) VALUES (?, ?, ?)\", companies_data)\n",
        "\n",
        "    # Insert sample data into customers.\n",
        "    customers_data = [\n",
        "        (1, 'Alice', 1500.0, 1),\n",
        "        (2, 'Bob', 2400.0, 2),\n",
        "        (3, 'Charlie', 1800.0, 1),\n",
        "        (4, 'Diana', 3200.0, 3),\n",
        "        (5, 'Ethan', 2100.0, 2)\n",
        "    ]\n",
        "    cur.executemany(\"INSERT INTO customers (id, name, revenue, company_id) VALUES (?, ?, ?, ?)\", customers_data)\n",
        "\n",
        "    conn.commit()\n",
        "    return conn\n"
      ],
      "metadata": {
        "id": "_UPIp2DYCk_8"
      },
      "execution_count": 15,
      "outputs": []
    },
    {
      "cell_type": "code",
      "source": [
        "create_sample_database()"
      ],
      "metadata": {
        "colab": {
          "base_uri": "https://localhost:8080/"
        },
        "id": "amzgXh9nDHzg",
        "outputId": "e792ffd4-f772-40f2-cb54-d92e4f2d14d4"
      },
      "execution_count": 16,
      "outputs": [
        {
          "output_type": "execute_result",
          "data": {
            "text/plain": [
              "<sqlite3.Connection at 0x7da6aabe46d0>"
            ]
          },
          "metadata": {},
          "execution_count": 16
        }
      ]
    },
    {
      "cell_type": "markdown",
      "source": [
        "## ReAct Text-to-SQL Setting Up"
      ],
      "metadata": {
        "id": "AUHoXVbcDKvQ"
      }
    },
    {
      "cell_type": "code",
      "source": [
        "system_prompt = f\"\"\"\n",
        "You are a helpful assistant that translates natural language queries into SQL queries for the following SQLite database schema.\n",
        "\n",
        "Table \"companies\":\n",
        "  - id: INTEGER PRIMARY KEY\n",
        "  - title: TEXT NOT NULL\n",
        "  - description: TEXT\n",
        "\n",
        "Table \"customers\":\n",
        "  - id: INTEGER PRIMARY KEY\n",
        "  - name: TEXT NOT NULL\n",
        "  - revenue: REAL NOT NULL\n",
        "  - company_id: INTEGER (Foreign key referencing companies(id))\n",
        "\n",
        "Instructions:\n",
        "  1. When you receive a text query that is relevant to this schema, generate the corresponding SQL query. Return only the SQL query with no additional commentary or characters like ``` or quotes e.g. SELECT * FROM COMPANIES.\n",
        "  2. If you receive a text query that includes an error message, generate a corrected SQL query that fixes the error, again returning only the SQL query.\n",
        "  3. If the query is irrelevant, do not output any extra text.\n",
        "\"\"\""
      ],
      "metadata": {
        "id": "x58uT3GxDPGS"
      },
      "execution_count": 17,
      "outputs": []
    },
    {
      "cell_type": "code",
      "source": [
        "model = genai.GenerativeModel(model_name=\"gemini-1.5-flash\", system_instruction=system_prompt)"
      ],
      "metadata": {
        "id": "hUj-Go8TD5O2"
      },
      "execution_count": 18,
      "outputs": []
    },
    {
      "cell_type": "markdown",
      "source": [
        "## Retrieval Augmented Generation"
      ],
      "metadata": {
        "id": "5-vYs9KrjZVR"
      }
    },
    {
      "cell_type": "code",
      "source": [
        "def generate_sql_query(nl_request, feedback=None):\n",
        "    \"\"\"\n",
        "    Generate a SQL query from a natural language request.\n",
        "    Optionally include feedback if previous attempts encountered errors.\n",
        "    \"\"\"\n",
        "    prompt = f\"Translate the following natural language request into SQL: '{nl_request}'.\"\n",
        "    if feedback:\n",
        "        prompt += f\"\\nFeedback: {feedback}\"\n",
        "    print(f\"Sending prompt to model:\\n{prompt}\\n\")\n",
        "    response = model.generate_content(prompt)\n",
        "    sql_query = response.text.strip()\n",
        "    print(f\"Generated SQL query:\\n{sql_query}\\n\")\n",
        "    return sql_query"
      ],
      "metadata": {
        "id": "Y209lSCQnZPn"
      },
      "execution_count": 19,
      "outputs": []
    },
    {
      "cell_type": "code",
      "source": [
        "def execute_query(conn, query):\n",
        "    \"\"\"\n",
        "    Execute the given SQL query on the SQLite database and return the results or error message.\n",
        "    \"\"\"\n",
        "    cur = conn.cursor()\n",
        "    try:\n",
        "        cur.execute(query)\n",
        "        rows = cur.fetchall()\n",
        "        conn.commit()  # Commit if the query modifies data.\n",
        "        return rows, None\n",
        "    except Exception as e:\n",
        "        return None, str(e)"
      ],
      "metadata": {
        "id": "FqYTO1RCJs_B"
      },
      "execution_count": 20,
      "outputs": []
    },
    {
      "cell_type": "code",
      "source": [
        "import time\n",
        "\n",
        "\n",
        "\n",
        "def test():\n",
        "    nl_request = input(\"Enter natural language query: \").strip()\n",
        "    if not nl_request:\n",
        "        print(\"No natural language query provided.\")\n",
        "        return\n",
        "\n",
        "    conn = sqlite3.connect(\"sample.db\")\n",
        "\n",
        "    max_iterations = 5\n",
        "    iteration = 0\n",
        "    feedback = None\n",
        "    final_result = None\n",
        "\n",
        "    while iteration < max_iterations:\n",
        "        iteration += 1\n",
        "        print(f\"--- Iteration {iteration} ---\")\n",
        "        sql_query = generate_sql_query(nl_request, feedback)\n",
        "\n",
        "        if not sql_query:\n",
        "            print(\"No corresponding SQL query for this query.\")\n",
        "            break\n",
        "\n",
        "        result, error = execute_query(conn, sql_query)\n",
        "\n",
        "        if error:\n",
        "            print(f\"SQL execution error: {error}\")\n",
        "            feedback = f\"The query resulted in the following error: {error}. Please adjust the SQL query accordingly.\"\n",
        "            time.sleep(1)\n",
        "        else:\n",
        "            if not result:\n",
        "                print(\"No results found.\")\n",
        "            else:\n",
        "                print(\"Query executed successfully. Results:\")\n",
        "                for row in result:\n",
        "                    print(row)\n",
        "            final_result = result\n",
        "            break\n",
        "\n",
        "    if final_result is None:\n",
        "        print(\"Failed to generate a valid SQL query after several iterations.\")\n",
        "\n",
        "    conn.close()"
      ],
      "metadata": {
        "id": "rCIYW4m_JpTg"
      },
      "execution_count": 24,
      "outputs": []
    },
    {
      "cell_type": "code",
      "source": [
        "test()"
      ],
      "metadata": {
        "colab": {
          "base_uri": "https://localhost:8080/",
          "height": 173
        },
        "id": "heMGTZuvOoS6",
        "outputId": "d2f9802e-338c-4b74-c0c7-9998120db08b"
      },
      "execution_count": 27,
      "outputs": [
        {
          "output_type": "stream",
          "name": "stdout",
          "text": [
            "Enter natural language query: Two customers that hate each other\n",
            "--- Iteration 1 ---\n",
            "Sending prompt to model:\n",
            "Translate the following natural language request into SQL: 'Two customers that hate each other'.\n",
            "\n",
            "Generated SQL query:\n",
            "-- No SQL query can be generated from this request as there is no information about customer relationships in the database schema.\n",
            "\n",
            "No results found.\n"
          ]
        }
      ]
    }
  ]
}